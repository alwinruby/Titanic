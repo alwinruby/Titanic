{
 "cells": [
  {
   "cell_type": "markdown",
   "id": "852d0090",
   "metadata": {},
   "source": [
    "### Titanic\n",
    "\n",
    "Build a predictive model that answers the question:\n",
    "\n",
    "“what sorts of people were more likely to survive?” \n",
    "\n",
    "Using passenger data (ie name, age, gender, socio-economic class, etc)."
   ]
  },
  {
   "cell_type": "markdown",
   "id": "deb4b112",
   "metadata": {},
   "source": [
    "### Overview\n",
    "\n",
    "1) Understand the shape of the data (Histograms, box plots, etc.)\n",
    "\n",
    "2) Data Cleaning\n",
    "\n",
    "3) Data Exploration\n",
    "\n",
    "4) Feature Engineering\n",
    "\n",
    "5) Data Preprocessing for Model\n",
    "\n",
    "6) Basic Model Building\n",
    "\n",
    "7) Model Tuning\n",
    "\n",
    "8) Ensemble Modle Building\n",
    "\n",
    "9) Results"
   ]
  },
  {
   "cell_type": "code",
   "execution_count": 1,
   "id": "14644934",
   "metadata": {},
   "outputs": [],
   "source": [
    "import numpy as np # linear algebra\n",
    "import pandas as pd # data processing, CSV file I/O (e.g. pd.read_csv)\n",
    "import seaborn as sns \n",
    "import matplotlib.pyplot as plt\n",
    "# Input data files are available in the read-only \"../input/\" directory\n",
    "# For example, running this (by clicking run or pressing Shift+Enter) will list all files under the input directory\n",
    "\n",
    "import os\n",
    "for dirname, _, filenames in os.walk('/input'):\n",
    "    for filename in filenames:\n",
    "        print(os.path.join(dirname, filename))\n",
    "        "
   ]
  },
  {
   "cell_type": "code",
   "execution_count": null,
   "id": "a2522a9e",
   "metadata": {},
   "outputs": [],
   "source": []
  }
 ],
 "metadata": {
  "kernelspec": {
   "display_name": "Python 3",
   "language": "python",
   "name": "python3"
  },
  "language_info": {
   "codemirror_mode": {
    "name": "ipython",
    "version": 3
   },
   "file_extension": ".py",
   "mimetype": "text/x-python",
   "name": "python",
   "nbconvert_exporter": "python",
   "pygments_lexer": "ipython3",
   "version": "3.8.8"
  }
 },
 "nbformat": 4,
 "nbformat_minor": 5
}
